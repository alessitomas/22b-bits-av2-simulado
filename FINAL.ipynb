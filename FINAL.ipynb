{
  "nbformat": 4,
  "nbformat_minor": 0,
  "metadata": {
    "colab": {
      "provenance": [],
      "include_colab_link": true
    },
    "kernelspec": {
      "name": "python3",
      "display_name": "Python 3"
    },
    "language_info": {
      "name": "python"
    }
  },
  "cells": [
    {
      "cell_type": "markdown",
      "metadata": {
        "id": "view-in-github",
        "colab_type": "text"
      },
      "source": [
        "<a href=\"https://colab.research.google.com/github/alessitomas/22b-bits-av2-simulado/blob/main/FINAL.ipynb\" target=\"_parent\"><img src=\"https://colab.research.google.com/assets/colab-badge.svg\" alt=\"Open In Colab\"/></a>"
      ]
    },
    {
      "cell_type": "markdown",
      "source": [
        "**LOGICA E MATEMÁTICA DISCRETA - PROVA FINAL**"
      ],
      "metadata": {
        "id": "38qy_v-mj8pm"
      }
    },
    {
      "cell_type": "markdown",
      "source": [
        "**NAME:**"
      ],
      "metadata": {
        "id": "dkGm2w0EkGI8"
      }
    },
    {
      "cell_type": "markdown",
      "source": [
        "**QUESTÃO 1 (2.0 PONTOS):** Utilizando o mecanismo de lambdas, implemente o tipo vetor unitário n-dimensional de coordenada i, onde n indica a quantidade de coordenadas do vetor e i a posição onde deve estar o único 1 do vetor."
      ],
      "metadata": {
        "id": "wnKJuE-3kKuV"
      }
    },
    {
      "cell_type": "code",
      "source": [
        "vetor = lambda n, i: [1 if j == i else 0 for j in range(n)]\n",
        "n=7\n",
        "i=5\n",
        "print (vetor(n,i))\n",
        "#resultado deveria ser [0,0,1,0,0,0]"
      ],
      "metadata": {
        "id": "m_D3LmbokU9x",
        "colab": {
          "base_uri": "https://localhost:8080/"
        },
        "outputId": "6874d430-ac38-42b7-a950-64b2f8756f78"
      },
      "execution_count": 9,
      "outputs": [
        {
          "output_type": "stream",
          "name": "stdout",
          "text": [
            "[0, 0, 0, 0, 0, 1, 0]\n"
          ]
        }
      ]
    },
    {
      "cell_type": "markdown",
      "source": [
        "**QUESTÃO 2 (2.0 PONTOS):** Uma pilha (STACK) é uma estrutura de dados que pode se implementada como uma lista P. Nesta lista, existem duas operações:\n",
        "\n",
        "*   **push(P,X)**: insere X no final da lista da pilha P e devolve a pilha P com o elemento X inserido nela\n",
        "*   **pop(P)**: remove, caso houver, o último elemento da lista da Pilha P e devolve como a pilha sem o último elemento inserido\n",
        "\n"
      ],
      "metadata": {
        "id": "qREpJTWJkiNp"
      }
    },
    {
      "cell_type": "markdown",
      "source": [
        "**QUESTÃO 2A (1.0 ponto)** Produza uma especificação algébrica para o tipo de dado PILHA de números naturais(NAT):\n",
        "\n",
        "SPEC **PILHA**\n",
        "\n",
        "SORTS PILHA, NAT\n",
        "\n",
        "OPS:\n",
        "\n",
        "new: -> PILHA, NAT\n",
        "\n",
        "push: PILHA, NAT --> PILHA, NAT \n",
        "\n",
        "pop: PILHA --> PILHA, NAT\n",
        "\n",
        "\n",
        "AXIOMS:\n",
        "\n",
        "  PILHA = pop(push(PILHA,NAT))\n",
        "\n",
        "    \n",
        "\n",
        "\n",
        "     \n",
        "\n",
        "END SPEC"
      ],
      "metadata": {
        "id": "RVFX4pHqk33d"
      }
    },
    {
      "cell_type": "markdown",
      "source": [
        "**QUESTÃO 2B (1.0 ponto)** Implemente a estrutura de dados PILHA de números naturais com base na especificação anterior."
      ],
      "metadata": {
        "id": "TFZtJ8AYzjdq"
      }
    },
    {
      "cell_type": "code",
      "source": [
        "#COLOQUE SUA IMPLEMENTAÇÃO AQUI\n",
        "\n",
        "from dataclasses import dataclass\n",
        "\n",
        "@dataclass\n",
        "class PILHA:\n",
        "    \n",
        "    def __init__(self,b):\n",
        "    #operation new   \n",
        "      self.p = []\n",
        "\n",
        "    def push(pilha,x):\n",
        "      pilha.p.append(x)\n",
        "      return pilha\n",
        "\n",
        "    def pop(pilha):\n",
        "      if len(pilha.p) >0:\n",
        "        pilha.p.pop()\n",
        "      return pilha\n",
        "\n",
        "pilha = PILHA(True)\n",
        "\n",
        "# teste considerando um pilha vazia inical\n",
        "assert pilha == PILHA.pop(PILHA.push(pilha,1))\n",
        "# teste considerando conisderando uma pilha com elemento \n",
        "\n",
        "pilha.push(3)\n",
        "assert pilha == PILHA.pop(PILHA.push(pilha,1))\n"
      ],
      "metadata": {
        "id": "eU7-6Dg8zwnA"
      },
      "execution_count": 16,
      "outputs": []
    },
    {
      "cell_type": "markdown",
      "source": [
        "**QUESTÃO 3 (2.0 PONTOS):** Considere a implementação do tipo recursivo tree (ÁRVORE) de números inteiros feita em ML:"
      ],
      "metadata": {
        "id": "YIM9zD1mk-Ur"
      }
    },
    {
      "cell_type": "code",
      "source": [
        "!apt-get install smlnj"
      ],
      "metadata": {
        "id": "mlTkKIJqlZbx",
        "colab": {
          "base_uri": "https://localhost:8080/"
        },
        "outputId": "a3f391bc-497f-4e80-8e5c-4ee8d79eae51"
      },
      "execution_count": 10,
      "outputs": [
        {
          "output_type": "stream",
          "name": "stdout",
          "text": [
            "Reading package lists... Done\n",
            "Building dependency tree       \n",
            "Reading state information... Done\n",
            "The following additional packages will be installed:\n",
            "  libsmlnj-smlnj smlnj-runtime\n",
            "Suggested packages:\n",
            "  smlnj-doc\n",
            "The following NEW packages will be installed:\n",
            "  libsmlnj-smlnj smlnj smlnj-runtime\n",
            "0 upgraded, 3 newly installed, 0 to remove and 24 not upgraded.\n",
            "Need to get 6,398 kB of archives.\n",
            "After this operation, 28.0 MB of additional disk space will be used.\n",
            "Get:1 http://archive.ubuntu.com/ubuntu focal/universe amd64 smlnj-runtime amd64 110.79-6 [129 kB]\n",
            "Get:2 http://archive.ubuntu.com/ubuntu focal/universe amd64 smlnj amd64 110.79-6 [5,788 kB]\n",
            "Get:3 http://archive.ubuntu.com/ubuntu focal/universe amd64 libsmlnj-smlnj amd64 110.79-6 [481 kB]\n",
            "Fetched 6,398 kB in 0s (16.2 MB/s)\n",
            "Selecting previously unselected package smlnj-runtime.\n",
            "(Reading database ... 122518 files and directories currently installed.)\n",
            "Preparing to unpack .../smlnj-runtime_110.79-6_amd64.deb ...\n",
            "Unpacking smlnj-runtime (110.79-6) ...\n",
            "Selecting previously unselected package smlnj.\n",
            "Preparing to unpack .../smlnj_110.79-6_amd64.deb ...\n",
            "Unpacking smlnj (110.79-6) ...\n",
            "Selecting previously unselected package libsmlnj-smlnj.\n",
            "Preparing to unpack .../libsmlnj-smlnj_110.79-6_amd64.deb ...\n",
            "Unpacking libsmlnj-smlnj (110.79-6) ...\n",
            "Setting up smlnj-runtime (110.79-6) ...\n",
            "Setting up smlnj (110.79-6) ...\n",
            "Setting up libsmlnj-smlnj (110.79-6) ...\n",
            "Processing triggers for man-db (2.9.1-1) ...\n"
          ]
        }
      ]
    },
    {
      "cell_type": "code",
      "source": [
        "%%writefile tree.sml\n",
        "\n",
        "datatype inttree = Empty \n",
        "                   | Node of { value: int, left: inttree, right: inttree }\n",
        "\n",
        "tree= Node {value = 2, \n",
        "            left = Node {value=1, left = Empty, right = Empty},\n",
        "            right= Node {value=3, left = Empty, right = Empty}}\n",
        "     \n"
      ],
      "metadata": {
        "id": "ySOBbW_yl38C",
        "colab": {
          "base_uri": "https://localhost:8080/"
        },
        "outputId": "87e5bd4e-8c20-4fb2-9baf-d8a1e6cb586a"
      },
      "execution_count": 13,
      "outputs": [
        {
          "output_type": "stream",
          "name": "stdout",
          "text": [
            "Overwriting tree.sml\n"
          ]
        }
      ]
    },
    {
      "cell_type": "markdown",
      "source": [
        "Uma **floresta (forest)** é uma coleção, possivelmente vazia, de árvores. Especifique um tipo recursivo em ML para florestas de árvores de inteiros. "
      ],
      "metadata": {
        "id": "sk_9N2odmBEL"
      }
    },
    {
      "cell_type": "code",
      "source": [
        "#IMPLEMENTE SEU CÓDIGO AQUI\n",
        "%%writefile florest.sml\n",
        "\n",
        "datatype intflorest = Empty \n",
        "                   | Node of { value: inttree, left: intflorest, right: intflorest }\n",
        "\n",
        "florest = Node {value = tree, \n",
        "            left = Node {value=tree, left = Empty, right = Empty},\n",
        "            right= Node {value=tree, left = Empty, right = Empty}}"
      ],
      "metadata": {
        "id": "f4KLp5X6mK59",
        "colab": {
          "base_uri": "https://localhost:8080/"
        },
        "outputId": "359a0c40-6c2b-49c0-c0c2-ab8f7c45de3e"
      },
      "execution_count": 14,
      "outputs": [
        {
          "output_type": "stream",
          "name": "stdout",
          "text": [
            "Writing florest.sml\n"
          ]
        }
      ]
    },
    {
      "cell_type": "markdown",
      "source": [
        "**QUESTÃO 4 (2.0 PONTOS):** Utilizando o solver Z3, mostre que todo número ímpar maior que zero é sempre a soma de um número par mais 1.\n",
        "\n",
        "Exemplos:\n",
        "\n",
        "* 1 = 0+1\n",
        "* 3 = 2+1\n",
        "* 5 = 4+1\n",
        "* 7 = 6+1\n",
        "\n"
      ],
      "metadata": {
        "id": "VMKifYchmTmj"
      }
    },
    {
      "cell_type": "code",
      "source": [
        "!pip install z3-solver"
      ],
      "metadata": {
        "id": "kN0fiBINmx8U",
        "colab": {
          "base_uri": "https://localhost:8080/"
        },
        "outputId": "1a54a415-acab-47b0-a22b-d9e985df48e3"
      },
      "execution_count": 2,
      "outputs": [
        {
          "output_type": "stream",
          "name": "stdout",
          "text": [
            "Looking in indexes: https://pypi.org/simple, https://us-python.pkg.dev/colab-wheels/public/simple/\n",
            "Collecting z3-solver\n",
            "  Downloading z3_solver-4.12.1.0-py2.py3-none-manylinux1_x86_64.whl (56.0 MB)\n",
            "\u001b[2K     \u001b[90m━━━━━━━━━━━━━━━━━━━━━━━━━━━━━━━━━━━━━━━━\u001b[0m \u001b[32m56.0/56.0 MB\u001b[0m \u001b[31m17.0 MB/s\u001b[0m eta \u001b[36m0:00:00\u001b[0m\n",
            "\u001b[?25hInstalling collected packages: z3-solver\n",
            "Successfully installed z3-solver-4.12.1.0\n"
          ]
        }
      ]
    },
    {
      "cell_type": "code",
      "source": [
        "from z3 import *\n",
        "\n",
        "# Definir variáveis\n",
        "n = Int('n') \n",
        "\n",
        "# função para definir número impar\n",
        "impar = Function(\"impar\", IntSort(), IntSort())\n",
        "\n",
        "s = Solver()\n",
        "\n",
        "# caso base para impar\n",
        "s.add(impar(0) == 1)\n",
        "\n",
        "# definição recursiva de impar\n",
        "s.add(ForAll([n], Implies(n >= 0, impar(n+1) == impar(n)+2)))\n",
        "\n",
        "# contraprova\n",
        "s.add(Not(ForAll([n], Implies(n >= 0, (impar(n) - 1) % 2 == 0))))\n",
        "s.check()"
      ],
      "metadata": {
        "id": "ux6MAbgfm3i2",
        "colab": {
          "base_uri": "https://localhost:8080/",
          "height": 34
        },
        "outputId": "1e8a0ad6-454d-43f3-e0a5-514f1d14650e"
      },
      "execution_count": 54,
      "outputs": [
        {
          "output_type": "execute_result",
          "data": {
            "text/plain": [
              "unknown"
            ],
            "text/html": [
              "<b>unknown</b>"
            ]
          },
          "metadata": {},
          "execution_count": 54
        }
      ]
    },
    {
      "cell_type": "markdown",
      "source": [
        "**QUESTÃO 5 (2.0 PONTOS):** Considere o seguinte algoritmo recursivo em Python, que realiza busca binária num vetor ordenado de inteiros de tamanho n:"
      ],
      "metadata": {
        "id": "PGSQHM3coR1M"
      }
    },
    {
      "cell_type": "code",
      "source": [
        "def binary_search(arr, low, high, x):\n",
        " \n",
        "    # Check base case\n",
        "    if high >= low:\n",
        " \n",
        "        mid = (high + low) // 2\n",
        " \n",
        "        # If element is present at the middle itself\n",
        "        if arr[mid] == x:\n",
        "            return mid\n",
        " \n",
        "        # If element is smaller than mid, then it can only\n",
        "        # be present in left subarray\n",
        "        elif arr[mid] > x:\n",
        "            return binary_search(arr, low, mid - 1, x)\n",
        " \n",
        "        # Else the element can only be present in right subarray\n",
        "        else:\n",
        "            return binary_search(arr, mid + 1, high, x)\n",
        " \n",
        "    else:\n",
        "        # Element is not present in the array\n",
        "        return -1\n",
        " \n",
        "# Test array\n",
        "arr = [ 2, 3, 4, 10, 40 ]\n",
        "x = 10\n",
        " \n",
        "# Function call\n",
        "result = binary_search(arr, 0, len(arr)-1, x)\n",
        " \n",
        "if result != -1:\n",
        "    print(\"Element is present at index\", str(result))\n",
        "else:\n",
        "    print(\"Element is not present in array\")"
      ],
      "metadata": {
        "id": "0xtzEeTopEzH",
        "colab": {
          "base_uri": "https://localhost:8080/"
        },
        "outputId": "84d67d67-0a65-41ae-c97a-7dffa40dc036"
      },
      "execution_count": 17,
      "outputs": [
        {
          "output_type": "stream",
          "name": "stdout",
          "text": [
            "Element is present at index 3\n"
          ]
        }
      ]
    },
    {
      "cell_type": "markdown",
      "source": [
        "Queremos **contar quantas comparações**, no máximo, a busca binária faz para procurar por um elemento x num vetor de tamanho n. Escreva a relação de recorrência para contar estas comparações e a resolva com o módulo sympy da linguagem Python."
      ],
      "metadata": {
        "id": "OmIFrwQapWsF"
      }
    },
    {
      "cell_type": "markdown",
      "source": [
        "Como não é possível efetuar a divisão irei aplicar uma superestimação, então saberemos que o resultado não pode ser pior que esse.\n",
        "\n"
      ],
      "metadata": {
        "id": "akoioaYE6eVk"
      }
    },
    {
      "cell_type": "code",
      "source": [
        "from sympy import *\n",
        "\n",
        "T = Function('T')\n",
        "n = symbols('n', integer=True)\n",
        "f = T(n) - T(n-1) - 1\n",
        "Tn = rsolve(f, T(n), {T(1): 1})\n"
      ],
      "metadata": {
        "id": "zhcLhfW89-Rm"
      },
      "execution_count": 62,
      "outputs": []
    },
    {
      "cell_type": "code",
      "source": [
        "Tn"
      ],
      "metadata": {
        "colab": {
          "base_uri": "https://localhost:8080/",
          "height": 39
        },
        "id": "HDlV6TTA7CAl",
        "outputId": "60b0ea68-8d5c-461e-e786-597a156c485e"
      },
      "execution_count": 63,
      "outputs": [
        {
          "output_type": "execute_result",
          "data": {
            "text/plain": [
              "n"
            ],
            "text/latex": "$\\displaystyle n$"
          },
          "metadata": {},
          "execution_count": 63
        }
      ]
    }
  ]
}